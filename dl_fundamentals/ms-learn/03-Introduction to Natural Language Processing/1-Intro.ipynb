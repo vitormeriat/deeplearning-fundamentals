{
 "cells": [
  {
   "cell_type": "markdown",
   "metadata": {},
   "source": [
    "# Introduction\n",
    "\n",
    "In this module, we will explore different neural network architectures for dealing with natural language texts. In the recent years, Natural Language Processing (NLP) has experiences fast growth as a field, primarily because performance of the language models depend on their overall ability to \"understand\" text, and that can be trained in unsupervised manner on large text corpora. Thus, pre-trained text models such as BERT simplified many NLP tasks, and dramatically improved the performance.\n",
    "\n",
    "We will focus on the fundamental aspects of representing NLP as tensors in PyTorch, and on classical NLP architectures, such as using bag-of-words, embeddings and recurrent neural networks.\n",
    "\n",
    "## Natural Language Tasks\n",
    "\n",
    "There are several NLP tasks that we traditionally try to solve using neural networks:\n",
    "\n",
    "* Text Classification is used when we need to classify text fragment into one of several pre-defined classes. Examples include e-mail spam detection, news categorization, assigning support request to one of the categories, and more.\n",
    "* Intent Classification is one specific case of text classification, when we want to map input utterance in the conversational AI system into one of the intents that represent the actual meaning of the phrase, or intent of the user.\n",
    "* Sentiment Analysis is a regression task, where we want to understand the degree of negativity of given piece of text. We may want to label texts in a dataset from the most negative (-1) to most positive ones (+1), and train a model that will output a number of \"positiveness\" of a text.\n",
    "* Named Entity Recognition (NER) is a task of extracting some entities from text, such as dates, addresses, people names, etc. Together with intent classification, NER is often used in dialog systems to extract parameters from user's utterance.\n",
    "* A similar task of keyword extraction can be used to find the most meaningful words inside a text, which can then be used as tags.\n",
    "* Text Summarization extracts the most meaningful pieces of text, giving a user a compressed version that contains most of the meaning.\n",
    "* Question/Answer is a task of extracting an answer from a piece of text. This model gets text fragment and a question as an input, and needs to find exact place within the text that contains answer. For example, the text \"John is a 22 year old student who loves to use Microsoft Learn\", and the question How old is John should provide us with the answer 22.\n",
    "\n",
    "In this module, we will mostly focus on the text classification task. However, we'll learn all the important concepts needed to handle more difficult tasks in the future."
   ]
  },
  {
   "cell_type": "code",
   "execution_count": null,
   "metadata": {},
   "outputs": [],
   "source": []
  }
 ],
 "metadata": {
  "kernelspec": {
   "display_name": "Python 3",
   "language": "python",
   "name": "python3"
  },
  "language_info": {
   "codemirror_mode": {
    "name": "ipython",
    "version": 3
   },
   "file_extension": ".py",
   "mimetype": "text/x-python",
   "name": "python",
   "nbconvert_exporter": "python",
   "pygments_lexer": "ipython3",
   "version": "3.8.8"
  }
 },
 "nbformat": 4,
 "nbformat_minor": 4
}
